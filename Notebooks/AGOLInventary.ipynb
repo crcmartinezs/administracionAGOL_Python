{
 "cells": [
  {
   "cell_type": "code",
   "execution_count": 3,
   "metadata": {},
   "outputs": [],
   "source": [
    "from arcgis import GIS\n",
    "import pandas as pd\n",
    "from datetime import datetime\n",
    "from time import sleep"
   ]
  },
  {
   "cell_type": "code",
   "execution_count": 5,
   "metadata": {},
   "outputs": [
    {
     "name": "stdout",
     "output_type": "stream",
     "text": [
      "Enter password: ········\n"
     ]
    }
   ],
   "source": [
    "gis = GIS(username=\"username\")"
   ]
  },
  {
   "cell_type": "code",
   "execution_count": 6,
   "metadata": {},
   "outputs": [],
   "source": [
    "def getInventaryItems(user):    \n",
    "    datos = []\n",
    "    foldersName = [None]+[folder[\"title\"] for folder in user.folders]\n",
    "    for folder in foldersName:\n",
    "        items = user.items(folder)\n",
    "        if folder is None:\n",
    "            folder = \"Root\"\n",
    "        for item in items:\n",
    "            datos.append([folder, item.owner, item.title, item.name, item.type, item.numViews, item.size/1048576 , \n",
    "            datetime.utcfromtimestamp(item.created/1000).strftime('%Y-%m-%d %H:%M:%S'),\n",
    "            datetime.utcfromtimestamp(item.modified/1000).strftime('%Y-%m-%d %H:%M:%S'), item.id])\n",
    "    return datos   "
   ]
  },
  {
   "cell_type": "code",
   "execution_count": null,
   "metadata": {},
   "outputs": [],
   "source": [
    "columns = [\"Folder\",\"Propietario\", \"Título\", \"Nombre\", \"Tipo\", \"Número de vistas\", \n",
    "           \"Tamaño (mb)\", \"Fecha creación\", \"Fecha modificación\", \"Item ID\"]\n",
    "with pd.ExcelWriter('Inventario AGOL.xlsx', engine='xlsxwriter') as writer:     \n",
    "    for user in gis.users.search():\n",
    "        datos = getInventaryItems(user)\n",
    "        df = pd.DataFrame(datos, columns=columns)\n",
    "        df.to_excel(writer, sheet_name=user.fullName)\n",
    "        del df\n",
    "        sleep(3)\n",
    "        \n",
    "writer.save()\n"
   ]
  }
 ],
 "metadata": {
  "kernelspec": {
   "display_name": "Python 3",
   "language": "python",
   "name": "python3"
  },
  "language_info": {
   "codemirror_mode": {
    "name": "ipython",
    "version": 3
   },
   "file_extension": ".py",
   "mimetype": "text/x-python",
   "name": "python",
   "nbconvert_exporter": "python",
   "pygments_lexer": "ipython3",
   "version": "3.6.6"
  }
 },
 "nbformat": 4,
 "nbformat_minor": 2
}
