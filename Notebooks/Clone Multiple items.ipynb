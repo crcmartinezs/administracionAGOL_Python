{
 "cells": [
  {
   "cell_type": "markdown",
   "metadata": {},
   "source": [
    "# Clone items and create folders"
   ]
  },
  {
   "cell_type": "markdown",
   "metadata": {},
   "source": [
    "## Function to clone"
   ]
  },
  {
   "cell_type": "code",
   "execution_count": 1,
   "metadata": {},
   "outputs": [],
   "source": [
    "def cloneItemsOnFolders(gis, items, numberOfCreations, folderNamePrefix):\n",
    "    import sys\n",
    "    #Iteration to create multiple items\n",
    "    for i in range(numberOfCreations):\n",
    "        try:          \n",
    "            ## Create clone items\n",
    "            gis.content.clone_items(items, \"%s %d\"%(folderNamePrefix, i), \n",
    "                                    copy_data=False, search_existing_items=False)\n",
    "            \n",
    "            print(\"Services created on Folder %s %d\"%(folderNamePrefix, i))\n",
    "        except Exception:\n",
    "            e = sys.exc_info()[1]\n",
    "            print(e.args[0])\n",
    "            print(\"You must modify the identifier\")"
   ]
  },
  {
   "cell_type": "markdown",
   "metadata": {},
   "source": [
    "## Required execution "
   ]
  },
  {
   "cell_type": "code",
   "execution_count": 2,
   "metadata": {},
   "outputs": [],
   "source": [
    "#Import required modules\n",
    "from arcgis import GIS"
   ]
  },
  {
   "cell_type": "code",
   "execution_count": 5,
   "metadata": {},
   "outputs": [],
   "source": [
    "## Parameters to login\n",
    "user = \"users\"\n",
    "password = \"password\"\n",
    "\n",
    "## Parameters to clone function\n",
    "folderNamePrefix = \"\"\n",
    "numberOfCreations = 1\n"
   ]
  },
  {
   "cell_type": "code",
   "execution_count": 6,
   "metadata": {},
   "outputs": [],
   "source": [
    "gis = GIS(username=user, password= password)"
   ]
  },
  {
   "cell_type": "code",
   "execution_count": 7,
   "metadata": {},
   "outputs": [
    {
     "name": "stdout",
     "output_type": "stream",
     "text": [
      "Folder Mapa colegios 0 created\n"
     ]
    }
   ],
   "source": [
    "for i in range(numberOfCreations):\n",
    "                ## Create Folders\n",
    "    gis.content.create_folder(\"%s %d\"%(folderNamePrefix,i))\n",
    "    print(\"Folder %s %d created\"%(folderNamePrefix, i))"
   ]
  },
  {
   "cell_type": "code",
   "execution_count": null,
   "metadata": {},
   "outputs": [],
   "source": [
    "itemsID = [\"ID1\",\"ID2\",\"ID3\"]\n",
    "items = [gis.content.get(item) for item in itemsIDs]"
   ]
  },
  {
   "cell_type": "code",
   "execution_count": 16,
   "metadata": {},
   "outputs": [
    {
     "name": "stdout",
     "output_type": "stream",
     "text": [
      "Services created on Folder Mapa colegios 0\n"
     ]
    }
   ],
   "source": [
    "cloneItemsOnFolders(gis, items, numberOfCreations, folderNamePrefix)"
   ]
  }
 ],
 "metadata": {
  "kernelspec": {
   "display_name": "Python 3",
   "language": "python",
   "name": "python3"
  },
  "language_info": {
   "codemirror_mode": {
    "name": "ipython",
    "version": 3
   },
   "file_extension": ".py",
   "mimetype": "text/x-python",
   "name": "python",
   "nbconvert_exporter": "python",
   "pygments_lexer": "ipython3",
   "version": "3.6.6"
  }
 },
 "nbformat": 4,
 "nbformat_minor": 2
}
