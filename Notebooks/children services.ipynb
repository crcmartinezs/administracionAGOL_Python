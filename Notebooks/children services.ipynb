{
 "cells": [
  {
   "cell_type": "code",
   "execution_count": 1,
   "metadata": {},
   "outputs": [],
   "source": [
    "from arcgis import GIS\n",
    "from arcgis.gis import Item\n",
    "import pandas as pd\n",
    "from time import sleep"
   ]
  },
  {
   "cell_type": "code",
   "execution_count": 2,
   "metadata": {},
   "outputs": [
    {
     "name": "stdout",
     "output_type": "stream",
     "text": [
      "Enter password: ········\n"
     ]
    }
   ],
   "source": [
    "gis = GIS(username=\"username\")\n"
   ]
  },
  {
   "cell_type": "code",
   "execution_count": null,
   "metadata": {},
   "outputs": [],
   "source": [
    "global data\n",
    "data = []"
   ]
  },
  {
   "cell_type": "code",
   "execution_count": 21,
   "metadata": {},
   "outputs": [],
   "source": [
    "def getServicesFromWebMap(itemId, appTitle,appID):\n",
    "    try:\n",
    "        item = gis.content.get(itemId)\n",
    "        itemProp = item.get_data()\n",
    "        for lyr in itemProp[\"operationalLayers\"]:\n",
    "            \n",
    "            values = list(lyr.keys())\n",
    "            if \"url\" in values and \"itemId\" in values:\n",
    "                serviceI2 = lyr[\"itemId\"]\n",
    "            elif \"url\" in values :\n",
    "                serviceI2 = lyr[\"url\"]\n",
    "            else:\n",
    "                serviceI2 = (\"Cargada directamente\")\n",
    "            data.append([appTitle, appID, item.title, item.itemid, lyr[\"title\"], serviceI2])\n",
    "            \n",
    "    except: \n",
    "        print(\"Not have services\")"
   ]
  },
  {
   "cell_type": "code",
   "execution_count": 22,
   "metadata": {},
   "outputs": [],
   "source": [
    "def getMapsFromApps(item, appTitle, appID):\n",
    "    try:\n",
    "        keywords = item.typeKeywords\n",
    "        if \"Dashboard\" in keywords:\n",
    "            maps = [mapWidget for mapWidget in item.get_data()[\"widgets\"] if mapWidget[\"type\"] == \"mapWidget\"]\n",
    "            for webMaps in maps:    \n",
    "                itemId = webMaps[\"itemId\"]\n",
    "                getServicesFromWebMap(itemId, appTitle, appID)\n",
    "        elif \"Web AppBuilder\" in keywords:\n",
    "            itemId = item.get_data()[\"map\"][\"itemId\"]\n",
    "            getServicesFromWebMap(itemId, appTitle, appID)\n",
    "        elif \"Story Map\" in keywords:\n",
    "            for content in item.get_data()[\"values\"][\"story\"][\"entries\"]:\n",
    "                itemId = content[\"media\"][\"webmap\"][\"id\"]\n",
    "                getServicesFromWebMap(itemId, appTitle, appID)                    \n",
    "        else:\n",
    "            itemId = item.get_data()[\"values\"][\"webmap\"]\n",
    "            getServicesFromWebMap(itemId, appTitle, appID)\n",
    "    except:\n",
    "        print(\"App not have map\")"
   ]
  },
  {
   "cell_type": "code",
   "execution_count": 29,
   "metadata": {
    "scrolled": true
   },
   "outputs": [],
   "source": [
    "def dfUserAppAndMaps(user):    \n",
    "    foldersName = [None]+[folder[\"title\"] for folder in user.folders]\n",
    "    for folder in foldersName:\n",
    "        items = user.items(folder)\n",
    "        for item in items:\n",
    "            \n",
    "            if item.type in [\"Dashboard\", \"Web Mapping Application\"]:\n",
    "                getMapsFromApps(item, item.title, item.itemid)\n",
    "            sleep(1)\n",
    "    columns = [\"App Title\", \"App ID\", \"Map Title\", \"Map ID\", \"Service Title\", \"Service ID/ URL\"]\n",
    "    df = pd.DataFrame(data, columns=columns)\n",
    "    return df\n",
    "      "
   ]
  },
  {
   "cell_type": "code",
   "execution_count": 27,
   "metadata": {
    "scrolled": true
   },
   "outputs": [],
   "source": [
    "def main():\n",
    "    with pd.ExcelWriter('Children Services.xlsx', engine='xlsxwriter') as writer:     \n",
    "        for user in gis.users.search():\n",
    "            df = dfUserAppAndMaps(user)\n",
    "            df.to_excel(writer, sheet_name=user.fullName)\n",
    "            sleep(3)\n",
    "            del df"
   ]
  },
  {
   "cell_type": "code",
   "execution_count": null,
   "metadata": {},
   "outputs": [],
   "source": [
    "main()"
   ]
  }
 ],
 "metadata": {
  "kernelspec": {
   "display_name": "Python 3",
   "language": "python",
   "name": "python3"
  },
  "language_info": {
   "codemirror_mode": {
    "name": "ipython",
    "version": 3
   },
   "file_extension": ".py",
   "mimetype": "text/x-python",
   "name": "python",
   "nbconvert_exporter": "python",
   "pygments_lexer": "ipython3",
   "version": "3.6.6"
  }
 },
 "nbformat": 4,
 "nbformat_minor": 2
}
